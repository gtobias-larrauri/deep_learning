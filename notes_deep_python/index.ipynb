{
 "cells": [
  {
   "cell_type": "markdown",
   "id": "d441b70e-7d89-4635-b9a1-8d64551dc40a",
   "metadata": {},
   "source": [
    "# Deep Learning $\\iff$ Neural networks\n",
    "\n",
    "**Notes based on Dive into Deep Learning, learn proper Keras implementation from this book.**\n",
    "\n",
    "- Tabular data $\\iff $ Feedforward neural network\n",
    "- Training methods: SGD and Backpropagation\n",
    "- Image data $\\iff $ Convolutional neural networks, different types\n",
    "- Sequential data; mainly text $\\iff $ RNN and transformers\n",
    "- Recommender systems could be interesting as a final project  "
   ]
  }
 ],
 "metadata": {
  "kernelspec": {
   "display_name": "Python 3 (ipykernel)",
   "language": "python",
   "name": "python3"
  },
  "language_info": {
   "codemirror_mode": {
    "name": "ipython",
    "version": 3
   },
   "file_extension": ".py",
   "mimetype": "text/x-python",
   "name": "python",
   "nbconvert_exporter": "python",
   "pygments_lexer": "ipython3",
   "version": "3.10.16"
  }
 },
 "nbformat": 4,
 "nbformat_minor": 5
}
